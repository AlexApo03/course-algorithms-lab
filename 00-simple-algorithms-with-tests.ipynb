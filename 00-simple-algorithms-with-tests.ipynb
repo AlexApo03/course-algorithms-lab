{
  "nbformat": 4,
  "nbformat_minor": 0,
  "metadata": {
    "colab": {
      "provenance": [],
      "authorship_tag": "ABX9TyNU3PP7Jfet8kQKxFosEp4e",
      "include_colab_link": true
    },
    "kernelspec": {
      "name": "python3",
      "display_name": "Python 3"
    },
    "language_info": {
      "name": "python"
    }
  },
  "cells": [
    {
      "cell_type": "markdown",
      "metadata": {
        "id": "view-in-github",
        "colab_type": "text"
      },
      "source": [
        "<a href=\"https://colab.research.google.com/github/unibo-lptsi/course-algorithms-lab/blob/master/00-simple-algorithms-with-tests.ipynb\" target=\"_parent\"><img src=\"https://colab.research.google.com/assets/colab-badge.svg\" alt=\"Open In Colab\"/></a>"
      ]
    },
    {
      "cell_type": "code",
      "execution_count": null,
      "metadata": {
        "id": "BmBN4-s5cIgv"
      },
      "outputs": [],
      "source": [
        "from math import sqrt\n",
        "from typing import Callable, Tuple, Sequence, Any # note: Sequence is covariant, while List is invariant\n",
        "\n",
        "# Note: this is a higher-order function, since it takes a function as input (f is a Callable)\n",
        "def test(tests: Sequence[Tuple[Tuple,Any]], f: Callable) -> None:\n",
        "  \"\"\"Runs a set of tests over a function-under-test f.\n",
        "\n",
        "  Arguments:\n",
        "  tests -- the set of test specifications, as a sequence of tuples (args_tuple, expected_result)\n",
        "  f -- the function to be tested\n",
        "  \"\"\"\n",
        "  for test in tests:\n",
        "      actual = f(*test[0])\n",
        "      expected = test[1]\n",
        "      if actual == expected:\n",
        "          print(f\"PASSED: {test}\")\n",
        "      else:\n",
        "          print(f\"!!! FAILED: {test}\\nGOT: {actual}\")\n",
        "      print(\"---\")\n",
        "\n",
        "def mul(a, b):\n",
        "    result = 0\n",
        "    for times in range(0, a):\n",
        "        result += b\n",
        "    return result\n",
        "\n",
        "def mcd(a, b):\n",
        "    while a != b:\n",
        "        if a > b: a = a - b\n",
        "        else: b = b - a\n",
        "    return a\n",
        "\n",
        "def mcd2(a, b):\n",
        "    while b:\n",
        "        a, b = b, a % b\n",
        "    return a\n",
        "\n",
        "def prime(n):\n",
        "    for i in range(2,n//2+1):\n",
        "        if n % i == 0: return False\n",
        "    return True\n",
        "\n",
        "def prime_better(n):\n",
        "    # idea: it is sufficient to check divisibility for all odd numbers up to sqrt(n)\n",
        "    if n<=3: return True\n",
        "    if n%2 == 0 or n%3 == 0: return False\n",
        "    for i in range(5,int(sqrt(n))):\n",
        "        if n % i == 0: return False\n",
        "    return True"
      ]
    },
    {
      "cell_type": "code",
      "source": [
        "print(\"*** MUL TESTS ***\")\n",
        "mul_tests = [((1, 3), 1*3), ((3, 1), 1*3), ((0, 8), 0), ((8, 0), 0), ((6, 4), 6*4)]\n",
        "test(mul_tests, mul)"
      ],
      "metadata": {
        "colab": {
          "base_uri": "https://localhost:8080/"
        },
        "id": "ZWxg87SOdELC",
        "outputId": "ee6a3c8a-fed7-4cce-c0ca-bbcad2e0417b"
      },
      "execution_count": null,
      "outputs": [
        {
          "output_type": "stream",
          "name": "stdout",
          "text": [
            "*** MUL TESTS ***\n",
            "PASSED: ((1, 3), 3)\n",
            "---\n",
            "PASSED: ((3, 1), 3)\n",
            "---\n",
            "PASSED: ((0, 8), 0)\n",
            "---\n",
            "PASSED: ((8, 0), 0)\n",
            "---\n",
            "PASSED: ((6, 4), 24)\n",
            "---\n"
          ]
        }
      ]
    },
    {
      "cell_type": "code",
      "source": [
        "print(\"\\n*** MCD TESTS ***\\n\")\n",
        "mcd_tests = [((1, 3), 1), ((4, 6), 2), ((12, 6), 6), ((12, 8), 4), ((8, 12), 4)]\n",
        "test(mcd_tests, mcd)"
      ],
      "metadata": {
        "id": "lNomQOyWdGyK",
        "outputId": "cdaa8928-f3f7-4638-8ac2-33ac8065fc30",
        "colab": {
          "base_uri": "https://localhost:8080/"
        }
      },
      "execution_count": null,
      "outputs": [
        {
          "output_type": "stream",
          "name": "stdout",
          "text": [
            "\n",
            "*** MCD TESTS ***\n",
            "\n",
            "PASSED: ((1, 3), 1)\n",
            "---\n",
            "PASSED: ((4, 6), 2)\n",
            "---\n",
            "PASSED: ((12, 6), 6)\n",
            "---\n",
            "PASSED: ((12, 8), 4)\n",
            "---\n",
            "PASSED: ((8, 12), 4)\n",
            "---\n"
          ]
        }
      ]
    },
    {
      "cell_type": "code",
      "source": [
        "print(\"\\n*** PRIME TESTS ***\\n\")\n",
        "prime_tests = [((1,), True), ((2,), True), ((3,), True), ((4,), False), ((5,), True), ((6,), False), ((13,), True), ((17,), True)]\n",
        "test(prime_tests, prime)\n",
        "print(\"###\\n\")\n",
        "test(prime_tests, prime_better)"
      ],
      "metadata": {
        "id": "KfZ7TsObdIBv",
        "outputId": "1f0b9610-ccd5-4f35-f499-e3efa52fd4c7",
        "colab": {
          "base_uri": "https://localhost:8080/"
        }
      },
      "execution_count": null,
      "outputs": [
        {
          "output_type": "stream",
          "name": "stdout",
          "text": [
            "\n",
            "*** PRIME TESTS ***\n",
            "\n",
            "PASSED: ((1,), True)\n",
            "---\n",
            "PASSED: ((2,), True)\n",
            "---\n",
            "PASSED: ((3,), True)\n",
            "---\n",
            "PASSED: ((4,), False)\n",
            "---\n",
            "PASSED: ((5,), True)\n",
            "---\n",
            "PASSED: ((6,), False)\n",
            "---\n",
            "PASSED: ((13,), True)\n",
            "---\n",
            "PASSED: ((17,), True)\n",
            "---\n",
            "###\n",
            "\n",
            "PASSED: ((1,), True)\n",
            "---\n",
            "PASSED: ((2,), True)\n",
            "---\n",
            "PASSED: ((3,), True)\n",
            "---\n",
            "PASSED: ((4,), False)\n",
            "---\n",
            "PASSED: ((5,), True)\n",
            "---\n",
            "PASSED: ((6,), False)\n",
            "---\n",
            "PASSED: ((13,), True)\n",
            "---\n",
            "PASSED: ((17,), True)\n",
            "---\n"
          ]
        }
      ]
    }
  ]
}